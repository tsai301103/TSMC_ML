{
 "cells": [
  {
   "cell_type": "code",
   "execution_count": 196,
   "id": "2f2f0b28",
   "metadata": {},
   "outputs": [
    {
     "name": "stdout",
     "output_type": "stream",
     "text": [
      "[*********************100%***********************]  1 of 1 completed\n"
     ]
    },
    {
     "data": {
      "text/html": [
       "<div>\n",
       "<style scoped>\n",
       "    .dataframe tbody tr th:only-of-type {\n",
       "        vertical-align: middle;\n",
       "    }\n",
       "\n",
       "    .dataframe tbody tr th {\n",
       "        vertical-align: top;\n",
       "    }\n",
       "\n",
       "    .dataframe thead th {\n",
       "        text-align: right;\n",
       "    }\n",
       "</style>\n",
       "<table border=\"1\" class=\"dataframe\">\n",
       "  <thead>\n",
       "    <tr style=\"text-align: right;\">\n",
       "      <th></th>\n",
       "      <th>Open</th>\n",
       "      <th>High</th>\n",
       "      <th>Low</th>\n",
       "      <th>Close</th>\n",
       "      <th>Adj Close</th>\n",
       "      <th>Volume</th>\n",
       "    </tr>\n",
       "    <tr>\n",
       "      <th>Date</th>\n",
       "      <th></th>\n",
       "      <th></th>\n",
       "      <th></th>\n",
       "      <th></th>\n",
       "      <th></th>\n",
       "      <th></th>\n",
       "    </tr>\n",
       "  </thead>\n",
       "  <tbody>\n",
       "    <tr>\n",
       "      <th>2018-06-21</th>\n",
       "      <td>227.5</td>\n",
       "      <td>228.0</td>\n",
       "      <td>226.0</td>\n",
       "      <td>226.5</td>\n",
       "      <td>197.098495</td>\n",
       "      <td>31242557</td>\n",
       "    </tr>\n",
       "    <tr>\n",
       "      <th>2018-06-22</th>\n",
       "      <td>224.5</td>\n",
       "      <td>227.5</td>\n",
       "      <td>224.0</td>\n",
       "      <td>227.5</td>\n",
       "      <td>197.968735</td>\n",
       "      <td>43581409</td>\n",
       "    </tr>\n",
       "    <tr>\n",
       "      <th>2018-06-25</th>\n",
       "      <td>220.0</td>\n",
       "      <td>220.5</td>\n",
       "      <td>218.0</td>\n",
       "      <td>218.0</td>\n",
       "      <td>196.615829</td>\n",
       "      <td>45025211</td>\n",
       "    </tr>\n",
       "    <tr>\n",
       "      <th>2018-06-26</th>\n",
       "      <td>215.5</td>\n",
       "      <td>216.0</td>\n",
       "      <td>212.5</td>\n",
       "      <td>214.5</td>\n",
       "      <td>193.459183</td>\n",
       "      <td>38446346</td>\n",
       "    </tr>\n",
       "    <tr>\n",
       "      <th>2018-06-27</th>\n",
       "      <td>216.0</td>\n",
       "      <td>216.0</td>\n",
       "      <td>212.5</td>\n",
       "      <td>213.0</td>\n",
       "      <td>192.106293</td>\n",
       "      <td>39888414</td>\n",
       "    </tr>\n",
       "    <tr>\n",
       "      <th>...</th>\n",
       "      <td>...</td>\n",
       "      <td>...</td>\n",
       "      <td>...</td>\n",
       "      <td>...</td>\n",
       "      <td>...</td>\n",
       "      <td>...</td>\n",
       "    </tr>\n",
       "    <tr>\n",
       "      <th>2022-09-02</th>\n",
       "      <td>488.0</td>\n",
       "      <td>489.5</td>\n",
       "      <td>485.0</td>\n",
       "      <td>485.0</td>\n",
       "      <td>485.000000</td>\n",
       "      <td>29982959</td>\n",
       "    </tr>\n",
       "    <tr>\n",
       "      <th>2022-09-05</th>\n",
       "      <td>485.0</td>\n",
       "      <td>488.0</td>\n",
       "      <td>484.0</td>\n",
       "      <td>486.0</td>\n",
       "      <td>486.000000</td>\n",
       "      <td>15903415</td>\n",
       "    </tr>\n",
       "    <tr>\n",
       "      <th>2022-09-06</th>\n",
       "      <td>488.5</td>\n",
       "      <td>491.5</td>\n",
       "      <td>486.5</td>\n",
       "      <td>489.0</td>\n",
       "      <td>489.000000</td>\n",
       "      <td>16700285</td>\n",
       "    </tr>\n",
       "    <tr>\n",
       "      <th>2022-09-07</th>\n",
       "      <td>477.0</td>\n",
       "      <td>478.0</td>\n",
       "      <td>472.0</td>\n",
       "      <td>472.5</td>\n",
       "      <td>472.500000</td>\n",
       "      <td>34678562</td>\n",
       "    </tr>\n",
       "    <tr>\n",
       "      <th>2022-09-08</th>\n",
       "      <td>473.0</td>\n",
       "      <td>475.0</td>\n",
       "      <td>472.0</td>\n",
       "      <td>475.0</td>\n",
       "      <td>475.000000</td>\n",
       "      <td>27931552</td>\n",
       "    </tr>\n",
       "  </tbody>\n",
       "</table>\n",
       "<p>1031 rows × 6 columns</p>\n",
       "</div>"
      ],
      "text/plain": [
       "             Open   High    Low  Close   Adj Close    Volume\n",
       "Date                                                        \n",
       "2018-06-21  227.5  228.0  226.0  226.5  197.098495  31242557\n",
       "2018-06-22  224.5  227.5  224.0  227.5  197.968735  43581409\n",
       "2018-06-25  220.0  220.5  218.0  218.0  196.615829  45025211\n",
       "2018-06-26  215.5  216.0  212.5  214.5  193.459183  38446346\n",
       "2018-06-27  216.0  216.0  212.5  213.0  192.106293  39888414\n",
       "...           ...    ...    ...    ...         ...       ...\n",
       "2022-09-02  488.0  489.5  485.0  485.0  485.000000  29982959\n",
       "2022-09-05  485.0  488.0  484.0  486.0  486.000000  15903415\n",
       "2022-09-06  488.5  491.5  486.5  489.0  489.000000  16700285\n",
       "2022-09-07  477.0  478.0  472.0  472.5  472.500000  34678562\n",
       "2022-09-08  473.0  475.0  472.0  475.0  475.000000  27931552\n",
       "\n",
       "[1031 rows x 6 columns]"
      ]
     },
     "execution_count": 196,
     "metadata": {},
     "output_type": "execute_result"
    }
   ],
   "source": [
    "import numpy as np\n",
    "import yfinance as yf\n",
    "df=yf.download(\"2330.TW\",start='2018-06-21',end='2022-09-18')\n",
    "df"
   ]
  },
  {
   "cell_type": "code",
   "execution_count": 197,
   "id": "6264cb96",
   "metadata": {},
   "outputs": [],
   "source": [
    "import pandas as pd"
   ]
  },
  {
   "cell_type": "code",
   "execution_count": 198,
   "id": "1fa93557",
   "metadata": {},
   "outputs": [
    {
     "data": {
      "text/plain": [
       "Index(['Open', 'High', 'Low', 'Close', 'Adj Close', 'Volume'], dtype='object')"
      ]
     },
     "execution_count": 198,
     "metadata": {},
     "output_type": "execute_result"
    }
   ],
   "source": [
    "# df=pd.read_csv(\"TSMC.csv\")\n",
    "df.columns"
   ]
  },
  {
   "cell_type": "code",
   "execution_count": 199,
   "id": "89013d0c",
   "metadata": {},
   "outputs": [],
   "source": [
    "# X=pd.DataFrame(df['Total_volumn'].apply(lambda x:int(\"\".join(x.split(\",\")))))\n",
    "X=pd.DataFrame(df['Volume'])"
   ]
  },
  {
   "cell_type": "code",
   "execution_count": 207,
   "id": "d12c41c5",
   "metadata": {},
   "outputs": [
    {
     "data": {
      "text/html": [
       "<div>\n",
       "<style scoped>\n",
       "    .dataframe tbody tr th:only-of-type {\n",
       "        vertical-align: middle;\n",
       "    }\n",
       "\n",
       "    .dataframe tbody tr th {\n",
       "        vertical-align: top;\n",
       "    }\n",
       "\n",
       "    .dataframe thead th {\n",
       "        text-align: right;\n",
       "    }\n",
       "</style>\n",
       "<table border=\"1\" class=\"dataframe\">\n",
       "  <thead>\n",
       "    <tr style=\"text-align: right;\">\n",
       "      <th></th>\n",
       "      <th>Volume</th>\n",
       "    </tr>\n",
       "    <tr>\n",
       "      <th>Date</th>\n",
       "      <th></th>\n",
       "    </tr>\n",
       "  </thead>\n",
       "  <tbody>\n",
       "    <tr>\n",
       "      <th>2018-06-21</th>\n",
       "      <td>31242557</td>\n",
       "    </tr>\n",
       "    <tr>\n",
       "      <th>2018-06-22</th>\n",
       "      <td>43581409</td>\n",
       "    </tr>\n",
       "    <tr>\n",
       "      <th>2018-06-25</th>\n",
       "      <td>45025211</td>\n",
       "    </tr>\n",
       "    <tr>\n",
       "      <th>2018-06-26</th>\n",
       "      <td>38446346</td>\n",
       "    </tr>\n",
       "    <tr>\n",
       "      <th>2018-06-27</th>\n",
       "      <td>39888414</td>\n",
       "    </tr>\n",
       "  </tbody>\n",
       "</table>\n",
       "</div>"
      ],
      "text/plain": [
       "              Volume\n",
       "Date                \n",
       "2018-06-21  31242557\n",
       "2018-06-22  43581409\n",
       "2018-06-25  45025211\n",
       "2018-06-26  38446346\n",
       "2018-06-27  39888414"
      ]
     },
     "execution_count": 207,
     "metadata": {},
     "output_type": "execute_result"
    }
   ],
   "source": [
    "X.head()"
   ]
  },
  {
   "cell_type": "code",
   "execution_count": 201,
   "id": "9de9d0c7",
   "metadata": {},
   "outputs": [
    {
     "data": {
      "text/plain": [
       "Date\n",
       "2018-06-21    226.5\n",
       "2018-06-22    227.5\n",
       "2018-06-25    218.0\n",
       "2018-06-26    214.5\n",
       "2018-06-27    213.0\n",
       "              ...  \n",
       "2022-09-02    485.0\n",
       "2022-09-05    486.0\n",
       "2022-09-06    489.0\n",
       "2022-09-07    472.5\n",
       "2022-09-08    475.0\n",
       "Name: Close, Length: 1031, dtype: float64"
      ]
     },
     "execution_count": 201,
     "metadata": {},
     "output_type": "execute_result"
    }
   ],
   "source": [
    "y=df['Close']\n",
    "y\n"
   ]
  },
  {
   "cell_type": "code",
   "execution_count": 202,
   "id": "dbfd8b0e",
   "metadata": {},
   "outputs": [],
   "source": [
    "from sklearn.linear_model import LinearRegression"
   ]
  },
  {
   "cell_type": "code",
   "execution_count": 203,
   "id": "97fbaedf",
   "metadata": {},
   "outputs": [],
   "source": [
    "lm=LinearRegression()"
   ]
  },
  {
   "cell_type": "code",
   "execution_count": 204,
   "id": "93e80840",
   "metadata": {},
   "outputs": [
    {
     "data": {
      "text/plain": [
       "LinearRegression()"
      ]
     },
     "execution_count": 204,
     "metadata": {},
     "output_type": "execute_result"
    }
   ],
   "source": [
    "lm.fit(X,y)"
   ]
  },
  {
   "cell_type": "code",
   "execution_count": 205,
   "id": "68d358ec",
   "metadata": {},
   "outputs": [
    {
     "name": "stderr",
     "output_type": "stream",
     "text": [
      "/Users/caimengdian/opt/anaconda3/lib/python3.9/site-packages/sklearn/base.py:450: UserWarning: X does not have valid feature names, but LinearRegression was fitted with feature names\n",
      "  warnings.warn(\n"
     ]
    }
   ],
   "source": [
    "#predicted_sales = lm.predict(to_be_predicted)\n",
    "to_be_predicted = np.array([\n",
    "    [29115000]\n",
    "])\n",
    "\n",
    "prediction=lm.predict(to_be_predicted)"
   ]
  },
  {
   "cell_type": "code",
   "execution_count": 206,
   "id": "fa4f43f7",
   "metadata": {},
   "outputs": [
    {
     "data": {
      "text/plain": [
       "array([411.86913721])"
      ]
     },
     "execution_count": 206,
     "metadata": {},
     "output_type": "execute_result"
    }
   ],
   "source": [
    "prediction\n"
   ]
  },
  {
   "cell_type": "code",
   "execution_count": null,
   "id": "3414e264",
   "metadata": {},
   "outputs": [],
   "source": []
  },
  {
   "cell_type": "code",
   "execution_count": null,
   "id": "bcb78c23",
   "metadata": {},
   "outputs": [],
   "source": []
  }
 ],
 "metadata": {
  "kernelspec": {
   "display_name": "Python 3 (ipykernel)",
   "language": "python",
   "name": "python3"
  },
  "language_info": {
   "codemirror_mode": {
    "name": "ipython",
    "version": 3
   },
   "file_extension": ".py",
   "mimetype": "text/x-python",
   "name": "python",
   "nbconvert_exporter": "python",
   "pygments_lexer": "ipython3",
   "version": "3.9.12"
  }
 },
 "nbformat": 4,
 "nbformat_minor": 5
}
